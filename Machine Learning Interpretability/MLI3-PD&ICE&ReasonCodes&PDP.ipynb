{
 "cells": [
  {
   "cell_type": "code",
   "execution_count": 1,
   "metadata": {},
   "outputs": [],
   "source": [
    "import numpy as np\n",
    "import pandas as pd\n",
    "import matplotlib.pyplot as plt\n",
    "from sklearn.ensemble import RandomForestClassifier\n",
    "from sklearn.metrics import (confusion_matrix, precision_score, accuracy_score, precision_recall_curve, auc,\n",
    "                             roc_curve, roc_auc_score, recall_score, classification_report, f1_score,\n",
    "                             precision_recall_fscore_support, average_precision_score)\n",
    "from sklearn.model_selection import train_test_split, cross_val_score, cross_val_predict, KFold, GridSearchCV\n",
    "import seaborn as sns\n",
    "from sklearn.linear_model import LogisticRegression\n",
    "from lightgbm import LGBMClassifier\n",
    "from imblearn.pipeline import Pipeline\n",
    "import time\n",
    "import random\n",
    "import sklearn.metrics as metrics\n",
    "import scipy"
   ]
  },
  {
   "cell_type": "markdown",
   "metadata": {},
   "source": [
    "https://www.kaggle.com/dansbecker/partial-plots"
   ]
  },
  {
   "cell_type": "markdown",
   "metadata": {},
   "source": [
    "# Read Data"
   ]
  },
  {
   "cell_type": "code",
   "execution_count": 2,
   "metadata": {},
   "outputs": [],
   "source": [
    "train_data = pd.read_csv('train_data.csv')\n",
    "test_data = pd.read_csv('test_data.csv')\n",
    "data = pd.read_csv('UCI_Credit_Card.csv')"
   ]
  },
  {
   "cell_type": "code",
   "execution_count": 3,
   "metadata": {},
   "outputs": [
    {
     "data": {
      "text/plain": [
       "array(['ID', 'LIMIT_BAL', 'SEX', 'EDUCATION', 'MARRIAGE', 'AGE', 'PAY_0',\n",
       "       'PAY_2', 'PAY_3', 'PAY_4', 'PAY_5', 'PAY_6', 'BILL_AMT1',\n",
       "       'BILL_AMT2', 'BILL_AMT3', 'BILL_AMT4', 'BILL_AMT5', 'BILL_AMT6',\n",
       "       'PAY_AMT1', 'PAY_AMT2', 'PAY_AMT3', 'PAY_AMT4', 'PAY_AMT5',\n",
       "       'PAY_AMT6', 'default.payment.next.month'], dtype=object)"
      ]
     },
     "execution_count": 3,
     "metadata": {},
     "output_type": "execute_result"
    }
   ],
   "source": [
    "data.columns.values"
   ]
  },
  {
   "cell_type": "code",
   "execution_count": 4,
   "metadata": {},
   "outputs": [],
   "source": [
    "X_train=train_data.drop('default.payment.next.month', axis=1)\n",
    "X_test=test_data.drop('default.payment.next.month', axis=1)\n",
    "y_train=train_data['default.payment.next.month']\n",
    "y_test=test_data['default.payment.next.month']"
   ]
  },
  {
   "cell_type": "code",
   "execution_count": 5,
   "metadata": {},
   "outputs": [
    {
     "data": {
      "text/plain": [
       "(37382, 146)"
      ]
     },
     "execution_count": 5,
     "metadata": {},
     "output_type": "execute_result"
    }
   ],
   "source": [
    "X_train.shape"
   ]
  },
  {
   "cell_type": "code",
   "execution_count": 6,
   "metadata": {
    "scrolled": true
   },
   "outputs": [
    {
     "data": {
      "text/plain": [
       "array(['LIMIT_BAL', 'BILL_AMT1', 'BILL_AMT2', 'BILL_AMT3', 'BILL_AMT4',\n",
       "       'BILL_AMT5', 'BILL_AMT6', 'PAY_AMT1', 'PAY_AMT2', 'PAY_AMT3',\n",
       "       'PAY_AMT4', 'PAY_AMT5', 'PAY_AMT6', 'Total_Bill_Amount',\n",
       "       'Total_payment_Amount', 'SEX_1', 'SEX_2', 'EDUCATION_0',\n",
       "       'EDUCATION_1', 'EDUCATION_2', 'EDUCATION_3', 'EDUCATION_4',\n",
       "       'MARRIAGE_0', 'MARRIAGE_1', 'MARRIAGE_2', 'MARRIAGE_3', 'PAY_0_-2',\n",
       "       'PAY_0_-1', 'PAY_0_0', 'PAY_0_1', 'PAY_0_2', 'PAY_0_3', 'PAY_0_4',\n",
       "       'PAY_0_5', 'PAY_0_6', 'PAY_0_7', 'PAY_0_8', 'PAY_2_-2', 'PAY_2_-1',\n",
       "       'PAY_2_0', 'PAY_2_1', 'PAY_2_2', 'PAY_2_3', 'PAY_2_4', 'PAY_2_5',\n",
       "       'PAY_2_6', 'PAY_2_7', 'PAY_2_8', 'PAY_3_-2', 'PAY_3_-1', 'PAY_3_0',\n",
       "       'PAY_3_1', 'PAY_3_2', 'PAY_3_3', 'PAY_3_4', 'PAY_3_5', 'PAY_3_6',\n",
       "       'PAY_3_7', 'PAY_3_8', 'PAY_4_-2', 'PAY_4_-1', 'PAY_4_0', 'PAY_4_1',\n",
       "       'PAY_4_2', 'PAY_4_3', 'PAY_4_4', 'PAY_4_5', 'PAY_4_6', 'PAY_4_7',\n",
       "       'PAY_4_8', 'PAY_5_-2', 'PAY_5_-1', 'PAY_5_0', 'PAY_5_2', 'PAY_5_3',\n",
       "       'PAY_5_4', 'PAY_5_5', 'PAY_5_6', 'PAY_5_7', 'PAY_5_8', 'PAY_6_-2',\n",
       "       'PAY_6_-1', 'PAY_6_0', 'PAY_6_2', 'PAY_6_3', 'PAY_6_4', 'PAY_6_5',\n",
       "       'PAY_6_6', 'PAY_6_7', 'PAY_6_8', 'Sex_Marriage_10',\n",
       "       'Sex_Marriage_11', 'Sex_Marriage_12', 'Sex_Marriage_13',\n",
       "       'Sex_Marriage_20', 'Sex_Marriage_21', 'Sex_Marriage_22',\n",
       "       'Sex_Marriage_23', 'Sex_Education_10', 'Sex_Education_11',\n",
       "       'Sex_Education_12', 'Sex_Education_13', 'Sex_Education_14',\n",
       "       'Sex_Education_20', 'Sex_Education_21', 'Sex_Education_22',\n",
       "       'Sex_Education_23', 'Sex_Education_24',\n",
       "       'Sex_Education_Marriage_101', 'Sex_Education_Marriage_102',\n",
       "       'Sex_Education_Marriage_110', 'Sex_Education_Marriage_111',\n",
       "       'Sex_Education_Marriage_112', 'Sex_Education_Marriage_113',\n",
       "       'Sex_Education_Marriage_120', 'Sex_Education_Marriage_121',\n",
       "       'Sex_Education_Marriage_122', 'Sex_Education_Marriage_123',\n",
       "       'Sex_Education_Marriage_130', 'Sex_Education_Marriage_131',\n",
       "       'Sex_Education_Marriage_132', 'Sex_Education_Marriage_133',\n",
       "       'Sex_Education_Marriage_141', 'Sex_Education_Marriage_142',\n",
       "       'Sex_Education_Marriage_143', 'Sex_Education_Marriage_201',\n",
       "       'Sex_Education_Marriage_202', 'Sex_Education_Marriage_210',\n",
       "       'Sex_Education_Marriage_211', 'Sex_Education_Marriage_212',\n",
       "       'Sex_Education_Marriage_213', 'Sex_Education_Marriage_220',\n",
       "       'Sex_Education_Marriage_221', 'Sex_Education_Marriage_222',\n",
       "       'Sex_Education_Marriage_223', 'Sex_Education_Marriage_230',\n",
       "       'Sex_Education_Marriage_231', 'Sex_Education_Marriage_232',\n",
       "       'Sex_Education_Marriage_233', 'Sex_Education_Marriage_241',\n",
       "       'Sex_Education_Marriage_242', 'Sex_Education_Marriage_243',\n",
       "       'Age_category_29 - 34', 'Age_category_35 - 41',\n",
       "       'Age_category_<=28', 'Age_category_>41'], dtype=object)"
      ]
     },
     "execution_count": 6,
     "metadata": {},
     "output_type": "execute_result"
    }
   ],
   "source": [
    "features=X_train.columns.values\n",
    "features"
   ]
  },
  {
   "cell_type": "code",
   "execution_count": 7,
   "metadata": {},
   "outputs": [],
   "source": [
    "X=X_test.copy()\n",
    "X['ID']=X.index.values"
   ]
  },
  {
   "cell_type": "markdown",
   "metadata": {},
   "source": [
    "# Best Model"
   ]
  },
  {
   "cell_type": "code",
   "execution_count": 8,
   "metadata": {},
   "outputs": [
    {
     "data": {
      "text/plain": [
       "LGBMClassifier(num_leaves=25)"
      ]
     },
     "execution_count": 8,
     "metadata": {},
     "output_type": "execute_result"
    }
   ],
   "source": [
    "clf=LGBMClassifier(learning_rate=0.1, n_estimators=100, num_leaves=25)\n",
    "clf.fit(X_train,y_train)"
   ]
  },
  {
   "cell_type": "markdown",
   "metadata": {},
   "source": [
    "# Define Function"
   ]
  },
  {
   "cell_type": "code",
   "execution_count": 9,
   "metadata": {},
   "outputs": [
    {
     "data": {
      "text/plain": [
       "0"
      ]
     },
     "execution_count": 9,
     "metadata": {},
     "output_type": "execute_result"
    }
   ],
   "source": [
    "y_pred=clf.predict(X_test)\n",
    "y_pred[0]"
   ]
  },
  {
   "cell_type": "code",
   "execution_count": 11,
   "metadata": {},
   "outputs": [
    {
     "data": {
      "text/plain": [
       "array([0.84324089, 0.15675911])"
      ]
     },
     "execution_count": 11,
     "metadata": {},
     "output_type": "execute_result"
    }
   ],
   "source": [
    "y_pred_=clf.predict_proba(X_test)\n",
    "y_pred_[0]"
   ]
  },
  {
   "cell_type": "code",
   "execution_count": 12,
   "metadata": {},
   "outputs": [],
   "source": [
    "def par_dep(xs, frame, model, resolution=20, bins=None):\n",
    "    \n",
    "    # turn off pesky Pandas copy warning\n",
    "    pd.options.mode.chained_assignment = None\n",
    "    \n",
    "    # initialize empty Pandas DataFrame with correct column names\n",
    "    par_dep_frame = pd.DataFrame(columns=[xs, 'partial_dependence'])\n",
    "    \n",
    "    # cache original column values \n",
    "    col_cache = frame.loc[:, xs].copy(deep=True)\n",
    "  \n",
    "    # determine values at which to calculate partial dependence\n",
    "    if bins == None:\n",
    "        min_ = frame[xs].min()\n",
    "        max_ = frame[xs].max()\n",
    "        by = (max_ - min_)/resolution\n",
    "        bins = np.arange(min_, max_, by)\n",
    "        \n",
    "    # calculate partial dependence  \n",
    "    # by setting column of interest to constant \n",
    "    # and scoring the altered data and taking the mean of the predictions\n",
    "    for j in bins:\n",
    "        frame.loc[:, xs] = j\n",
    "        #dframe = xgb.DMatrix(frame)\n",
    "        par_dep_i = pd.DataFrame(model.predict_proba(frame))\n",
    "        par_dep_j = par_dep_i.mean()[1]\n",
    "        par_dep_frame = par_dep_frame.append({xs:j,\n",
    "                                              'partial_dependence': par_dep_j}, \n",
    "                                              ignore_index=True)\n",
    "        \n",
    "    # return input frame to original cached state    \n",
    "    frame.loc[:, xs] = col_cache\n",
    "\n",
    "    return par_dep_frame"
   ]
  },
  {
   "cell_type": "code",
   "execution_count": 13,
   "metadata": {},
   "outputs": [],
   "source": [
    "def get_percentile_dict(yhat, id_, frame):\n",
    "    \n",
    "    # create a copy of frame and sort it by yhat\n",
    "    sort_df = frame.copy(deep=True)\n",
    "    sort_df.sort_values(yhat, inplace=True,ascending=True)\n",
    "    sort_df.reset_index(inplace=True)\n",
    "    \n",
    "    # find top and bottom percentiles\n",
    "    percentiles_dict = {}\n",
    "    percentiles_dict[0] = sort_df.loc[0, id_]\n",
    "    percentiles_dict[99] = sort_df.loc[sort_df.shape[0]-1, id_]\n",
    "\n",
    "    # find 10th-90th percentiles\n",
    "    inc = sort_df.shape[0]//10\n",
    "    for i in [2,5,8]:\n",
    "        percentiles_dict[i * 10] = sort_df.loc[i * inc,  id_]\n",
    "\n",
    "    return percentiles_dict"
   ]
  },
  {
   "cell_type": "code",
   "execution_count": 14,
   "metadata": {
    "scrolled": true
   },
   "outputs": [
    {
     "data": {
      "text/plain": [
       "{0: 2542, 99: 390, 20: 3456, 50: 1350, 80: 1069}"
      ]
     },
     "execution_count": 14,
     "metadata": {},
     "output_type": "execute_result"
    }
   ],
   "source": [
    "# merge GBM predictions onto test data\n",
    "yhat_test = pd.concat([X.reset_index(drop=True), pd.DataFrame(clf.predict_proba(X[features]))],\n",
    "                      axis=1)\n",
    "yhat_test = yhat_test.rename(columns={1:'p_DEFAULT_NEXT_MONTH'})\n",
    "\n",
    "# find percentiles of predictions\n",
    "percentile_dict = get_percentile_dict('p_DEFAULT_NEXT_MONTH', 'ID', yhat_test)\n",
    "\n",
    "# display percentiles dictionary\n",
    "# ID values for rows\n",
    "# from lowest prediction \n",
    "# to highest prediction\n",
    "percentile_dict"
   ]
  },
  {
   "cell_type": "code",
   "execution_count": 15,
   "metadata": {},
   "outputs": [
    {
     "data": {
      "text/html": [
       "<div>\n",
       "<style scoped>\n",
       "    .dataframe tbody tr th:only-of-type {\n",
       "        vertical-align: middle;\n",
       "    }\n",
       "\n",
       "    .dataframe tbody tr th {\n",
       "        vertical-align: top;\n",
       "    }\n",
       "\n",
       "    .dataframe thead th {\n",
       "        text-align: right;\n",
       "    }\n",
       "</style>\n",
       "<table border=\"1\" class=\"dataframe\">\n",
       "  <thead>\n",
       "    <tr style=\"text-align: right;\">\n",
       "      <th></th>\n",
       "      <th>LIMIT_BAL</th>\n",
       "      <th>BILL_AMT1</th>\n",
       "      <th>BILL_AMT2</th>\n",
       "      <th>BILL_AMT3</th>\n",
       "      <th>BILL_AMT4</th>\n",
       "      <th>BILL_AMT5</th>\n",
       "      <th>BILL_AMT6</th>\n",
       "      <th>PAY_AMT1</th>\n",
       "      <th>PAY_AMT2</th>\n",
       "      <th>PAY_AMT3</th>\n",
       "      <th>...</th>\n",
       "      <th>Sex_Education_Marriage_241</th>\n",
       "      <th>Sex_Education_Marriage_242</th>\n",
       "      <th>Sex_Education_Marriage_243</th>\n",
       "      <th>Age_category_29 - 34</th>\n",
       "      <th>Age_category_35 - 41</th>\n",
       "      <th>Age_category_&lt;=28</th>\n",
       "      <th>Age_category_&gt;41</th>\n",
       "      <th>ID</th>\n",
       "      <th>0</th>\n",
       "      <th>p_DEFAULT_NEXT_MONTH</th>\n",
       "    </tr>\n",
       "  </thead>\n",
       "  <tbody>\n",
       "    <tr>\n",
       "      <th>0</th>\n",
       "      <td>170000.0</td>\n",
       "      <td>53145.0</td>\n",
       "      <td>52131.0</td>\n",
       "      <td>45987.0</td>\n",
       "      <td>35377.0</td>\n",
       "      <td>29141.0</td>\n",
       "      <td>21955.0</td>\n",
       "      <td>2005.0</td>\n",
       "      <td>2000.0</td>\n",
       "      <td>1514.0</td>\n",
       "      <td>...</td>\n",
       "      <td>0</td>\n",
       "      <td>0</td>\n",
       "      <td>0</td>\n",
       "      <td>1</td>\n",
       "      <td>0</td>\n",
       "      <td>0</td>\n",
       "      <td>0</td>\n",
       "      <td>0</td>\n",
       "      <td>0.843241</td>\n",
       "      <td>0.156759</td>\n",
       "    </tr>\n",
       "    <tr>\n",
       "      <th>1</th>\n",
       "      <td>60000.0</td>\n",
       "      <td>13123.0</td>\n",
       "      <td>14403.0</td>\n",
       "      <td>16150.0</td>\n",
       "      <td>17870.0</td>\n",
       "      <td>19571.0</td>\n",
       "      <td>21235.0</td>\n",
       "      <td>1500.0</td>\n",
       "      <td>2000.0</td>\n",
       "      <td>2000.0</td>\n",
       "      <td>...</td>\n",
       "      <td>0</td>\n",
       "      <td>0</td>\n",
       "      <td>0</td>\n",
       "      <td>0</td>\n",
       "      <td>0</td>\n",
       "      <td>1</td>\n",
       "      <td>0</td>\n",
       "      <td>1</td>\n",
       "      <td>0.824218</td>\n",
       "      <td>0.175782</td>\n",
       "    </tr>\n",
       "    <tr>\n",
       "      <th>2</th>\n",
       "      <td>240000.0</td>\n",
       "      <td>160161.0</td>\n",
       "      <td>159484.0</td>\n",
       "      <td>162231.0</td>\n",
       "      <td>163255.0</td>\n",
       "      <td>165436.0</td>\n",
       "      <td>168178.0</td>\n",
       "      <td>7405.0</td>\n",
       "      <td>8005.0</td>\n",
       "      <td>6005.0</td>\n",
       "      <td>...</td>\n",
       "      <td>0</td>\n",
       "      <td>0</td>\n",
       "      <td>0</td>\n",
       "      <td>0</td>\n",
       "      <td>1</td>\n",
       "      <td>0</td>\n",
       "      <td>0</td>\n",
       "      <td>2</td>\n",
       "      <td>0.797480</td>\n",
       "      <td>0.202520</td>\n",
       "    </tr>\n",
       "    <tr>\n",
       "      <th>3</th>\n",
       "      <td>50000.0</td>\n",
       "      <td>5814.0</td>\n",
       "      <td>-73.0</td>\n",
       "      <td>11427.0</td>\n",
       "      <td>191.0</td>\n",
       "      <td>7391.0</td>\n",
       "      <td>6554.0</td>\n",
       "      <td>0.0</td>\n",
       "      <td>11500.0</td>\n",
       "      <td>191.0</td>\n",
       "      <td>...</td>\n",
       "      <td>0</td>\n",
       "      <td>0</td>\n",
       "      <td>0</td>\n",
       "      <td>0</td>\n",
       "      <td>0</td>\n",
       "      <td>1</td>\n",
       "      <td>0</td>\n",
       "      <td>3</td>\n",
       "      <td>0.904733</td>\n",
       "      <td>0.095267</td>\n",
       "    </tr>\n",
       "    <tr>\n",
       "      <th>4</th>\n",
       "      <td>200000.0</td>\n",
       "      <td>1554.0</td>\n",
       "      <td>1645.0</td>\n",
       "      <td>1408.0</td>\n",
       "      <td>1800.0</td>\n",
       "      <td>819.0</td>\n",
       "      <td>886.0</td>\n",
       "      <td>1345.0</td>\n",
       "      <td>1108.0</td>\n",
       "      <td>669.0</td>\n",
       "      <td>...</td>\n",
       "      <td>0</td>\n",
       "      <td>0</td>\n",
       "      <td>0</td>\n",
       "      <td>0</td>\n",
       "      <td>0</td>\n",
       "      <td>0</td>\n",
       "      <td>1</td>\n",
       "      <td>4</td>\n",
       "      <td>0.780267</td>\n",
       "      <td>0.219733</td>\n",
       "    </tr>\n",
       "    <tr>\n",
       "      <th>...</th>\n",
       "      <td>...</td>\n",
       "      <td>...</td>\n",
       "      <td>...</td>\n",
       "      <td>...</td>\n",
       "      <td>...</td>\n",
       "      <td>...</td>\n",
       "      <td>...</td>\n",
       "      <td>...</td>\n",
       "      <td>...</td>\n",
       "      <td>...</td>\n",
       "      <td>...</td>\n",
       "      <td>...</td>\n",
       "      <td>...</td>\n",
       "      <td>...</td>\n",
       "      <td>...</td>\n",
       "      <td>...</td>\n",
       "      <td>...</td>\n",
       "      <td>...</td>\n",
       "      <td>...</td>\n",
       "      <td>...</td>\n",
       "      <td>...</td>\n",
       "    </tr>\n",
       "    <tr>\n",
       "      <th>5995</th>\n",
       "      <td>150000.0</td>\n",
       "      <td>0.0</td>\n",
       "      <td>0.0</td>\n",
       "      <td>0.0</td>\n",
       "      <td>116.0</td>\n",
       "      <td>0.0</td>\n",
       "      <td>1500.0</td>\n",
       "      <td>0.0</td>\n",
       "      <td>0.0</td>\n",
       "      <td>116.0</td>\n",
       "      <td>...</td>\n",
       "      <td>0</td>\n",
       "      <td>0</td>\n",
       "      <td>0</td>\n",
       "      <td>1</td>\n",
       "      <td>0</td>\n",
       "      <td>0</td>\n",
       "      <td>0</td>\n",
       "      <td>5995</td>\n",
       "      <td>0.660620</td>\n",
       "      <td>0.339380</td>\n",
       "    </tr>\n",
       "    <tr>\n",
       "      <th>5996</th>\n",
       "      <td>200000.0</td>\n",
       "      <td>0.0</td>\n",
       "      <td>0.0</td>\n",
       "      <td>0.0</td>\n",
       "      <td>0.0</td>\n",
       "      <td>1830.0</td>\n",
       "      <td>0.0</td>\n",
       "      <td>0.0</td>\n",
       "      <td>0.0</td>\n",
       "      <td>0.0</td>\n",
       "      <td>...</td>\n",
       "      <td>0</td>\n",
       "      <td>0</td>\n",
       "      <td>0</td>\n",
       "      <td>0</td>\n",
       "      <td>0</td>\n",
       "      <td>0</td>\n",
       "      <td>1</td>\n",
       "      <td>5996</td>\n",
       "      <td>0.718085</td>\n",
       "      <td>0.281915</td>\n",
       "    </tr>\n",
       "    <tr>\n",
       "      <th>5997</th>\n",
       "      <td>260000.0</td>\n",
       "      <td>1891.0</td>\n",
       "      <td>2438.0</td>\n",
       "      <td>2280.0</td>\n",
       "      <td>746.0</td>\n",
       "      <td>1989.0</td>\n",
       "      <td>1668.0</td>\n",
       "      <td>2637.0</td>\n",
       "      <td>2280.0</td>\n",
       "      <td>746.0</td>\n",
       "      <td>...</td>\n",
       "      <td>0</td>\n",
       "      <td>0</td>\n",
       "      <td>0</td>\n",
       "      <td>0</td>\n",
       "      <td>1</td>\n",
       "      <td>0</td>\n",
       "      <td>0</td>\n",
       "      <td>5997</td>\n",
       "      <td>0.671393</td>\n",
       "      <td>0.328607</td>\n",
       "    </tr>\n",
       "    <tr>\n",
       "      <th>5998</th>\n",
       "      <td>170000.0</td>\n",
       "      <td>26151.0</td>\n",
       "      <td>24019.0</td>\n",
       "      <td>26013.0</td>\n",
       "      <td>24471.0</td>\n",
       "      <td>23496.0</td>\n",
       "      <td>25333.0</td>\n",
       "      <td>3000.0</td>\n",
       "      <td>5000.0</td>\n",
       "      <td>2000.0</td>\n",
       "      <td>...</td>\n",
       "      <td>0</td>\n",
       "      <td>0</td>\n",
       "      <td>0</td>\n",
       "      <td>0</td>\n",
       "      <td>0</td>\n",
       "      <td>1</td>\n",
       "      <td>0</td>\n",
       "      <td>5998</td>\n",
       "      <td>0.894674</td>\n",
       "      <td>0.105326</td>\n",
       "    </tr>\n",
       "    <tr>\n",
       "      <th>5999</th>\n",
       "      <td>240000.0</td>\n",
       "      <td>3328.0</td>\n",
       "      <td>164327.0</td>\n",
       "      <td>10690.0</td>\n",
       "      <td>4772.0</td>\n",
       "      <td>1294.0</td>\n",
       "      <td>2147.0</td>\n",
       "      <td>164820.0</td>\n",
       "      <td>11728.0</td>\n",
       "      <td>7738.0</td>\n",
       "      <td>...</td>\n",
       "      <td>0</td>\n",
       "      <td>0</td>\n",
       "      <td>0</td>\n",
       "      <td>0</td>\n",
       "      <td>0</td>\n",
       "      <td>0</td>\n",
       "      <td>1</td>\n",
       "      <td>5999</td>\n",
       "      <td>0.870349</td>\n",
       "      <td>0.129651</td>\n",
       "    </tr>\n",
       "  </tbody>\n",
       "</table>\n",
       "<p>6000 rows × 149 columns</p>\n",
       "</div>"
      ],
      "text/plain": [
       "      LIMIT_BAL  BILL_AMT1  BILL_AMT2  BILL_AMT3  BILL_AMT4  BILL_AMT5  \\\n",
       "0      170000.0    53145.0    52131.0    45987.0    35377.0    29141.0   \n",
       "1       60000.0    13123.0    14403.0    16150.0    17870.0    19571.0   \n",
       "2      240000.0   160161.0   159484.0   162231.0   163255.0   165436.0   \n",
       "3       50000.0     5814.0      -73.0    11427.0      191.0     7391.0   \n",
       "4      200000.0     1554.0     1645.0     1408.0     1800.0      819.0   \n",
       "...         ...        ...        ...        ...        ...        ...   \n",
       "5995   150000.0        0.0        0.0        0.0      116.0        0.0   \n",
       "5996   200000.0        0.0        0.0        0.0        0.0     1830.0   \n",
       "5997   260000.0     1891.0     2438.0     2280.0      746.0     1989.0   \n",
       "5998   170000.0    26151.0    24019.0    26013.0    24471.0    23496.0   \n",
       "5999   240000.0     3328.0   164327.0    10690.0     4772.0     1294.0   \n",
       "\n",
       "      BILL_AMT6  PAY_AMT1  PAY_AMT2  PAY_AMT3  ...  \\\n",
       "0       21955.0    2005.0    2000.0    1514.0  ...   \n",
       "1       21235.0    1500.0    2000.0    2000.0  ...   \n",
       "2      168178.0    7405.0    8005.0    6005.0  ...   \n",
       "3        6554.0       0.0   11500.0     191.0  ...   \n",
       "4         886.0    1345.0    1108.0     669.0  ...   \n",
       "...         ...       ...       ...       ...  ...   \n",
       "5995     1500.0       0.0       0.0     116.0  ...   \n",
       "5996        0.0       0.0       0.0       0.0  ...   \n",
       "5997     1668.0    2637.0    2280.0     746.0  ...   \n",
       "5998    25333.0    3000.0    5000.0    2000.0  ...   \n",
       "5999     2147.0  164820.0   11728.0    7738.0  ...   \n",
       "\n",
       "      Sex_Education_Marriage_241  Sex_Education_Marriage_242  \\\n",
       "0                              0                           0   \n",
       "1                              0                           0   \n",
       "2                              0                           0   \n",
       "3                              0                           0   \n",
       "4                              0                           0   \n",
       "...                          ...                         ...   \n",
       "5995                           0                           0   \n",
       "5996                           0                           0   \n",
       "5997                           0                           0   \n",
       "5998                           0                           0   \n",
       "5999                           0                           0   \n",
       "\n",
       "      Sex_Education_Marriage_243  Age_category_29 - 34  Age_category_35 - 41  \\\n",
       "0                              0                     1                     0   \n",
       "1                              0                     0                     0   \n",
       "2                              0                     0                     1   \n",
       "3                              0                     0                     0   \n",
       "4                              0                     0                     0   \n",
       "...                          ...                   ...                   ...   \n",
       "5995                           0                     1                     0   \n",
       "5996                           0                     0                     0   \n",
       "5997                           0                     0                     1   \n",
       "5998                           0                     0                     0   \n",
       "5999                           0                     0                     0   \n",
       "\n",
       "      Age_category_<=28  Age_category_>41    ID         0  \\\n",
       "0                     0                 0     0  0.843241   \n",
       "1                     1                 0     1  0.824218   \n",
       "2                     0                 0     2  0.797480   \n",
       "3                     1                 0     3  0.904733   \n",
       "4                     0                 1     4  0.780267   \n",
       "...                 ...               ...   ...       ...   \n",
       "5995                  0                 0  5995  0.660620   \n",
       "5996                  0                 1  5996  0.718085   \n",
       "5997                  0                 0  5997  0.671393   \n",
       "5998                  1                 0  5998  0.894674   \n",
       "5999                  0                 1  5999  0.870349   \n",
       "\n",
       "      p_DEFAULT_NEXT_MONTH  \n",
       "0                 0.156759  \n",
       "1                 0.175782  \n",
       "2                 0.202520  \n",
       "3                 0.095267  \n",
       "4                 0.219733  \n",
       "...                    ...  \n",
       "5995              0.339380  \n",
       "5996              0.281915  \n",
       "5997              0.328607  \n",
       "5998              0.105326  \n",
       "5999              0.129651  \n",
       "\n",
       "[6000 rows x 149 columns]"
      ]
     },
     "execution_count": 15,
     "metadata": {},
     "output_type": "execute_result"
    }
   ],
   "source": [
    "yhat_test"
   ]
  },
  {
   "cell_type": "code",
   "execution_count": 16,
   "metadata": {},
   "outputs": [
    {
     "data": {
      "text/plain": [
       "array([0, 0, 0, ..., 0, 0, 0])"
      ]
     },
     "execution_count": 16,
     "metadata": {},
     "output_type": "execute_result"
    }
   ],
   "source": [
    "clf.predict(X[features])"
   ]
  },
  {
   "cell_type": "code",
   "execution_count": 17,
   "metadata": {},
   "outputs": [],
   "source": [
    "def par_dep_expand(xs,par_dep_frame):\n",
    "    bins_par_dep_frame= list(par_dep_frame[xs])\n",
    "\n",
    "    # for each percentile in percentile_dict\n",
    "    # create a new column in the par_dep frame \n",
    "    # representing the ICE curve for that percentile\n",
    "    # and the variables of interest\n",
    "    for i in sorted(percentile_dict.keys()):\n",
    "\n",
    "        col_name = 'Percentile_' + str(i)\n",
    "\n",
    "        # ICE curves for PAY_0 across percentiles at bins_PAY_0 intervals\n",
    "        par_dep_frame[col_name] = par_dep(xs, \n",
    "                                        X[X['ID'] == int(percentile_dict[i])][features],  \n",
    "                                        clf, \n",
    "                                        bins=bins_par_dep_frame)['partial_dependence']\n",
    "    return par_dep_frame"
   ]
  },
  {
   "cell_type": "code",
   "execution_count": 18,
   "metadata": {},
   "outputs": [],
   "source": [
    "#### Function to plot partial dependence and ICE\n",
    "\n",
    "def plot_par_dep_ICE(xs, par_dep_frame):\n",
    "    \n",
    "    # initialize figure and axis\n",
    "    fig, ax = plt.subplots()\n",
    "    \n",
    "    # plot ICE curves\n",
    "    par_dep_frame.drop('partial_dependence', axis=1).plot(x=xs, \n",
    "                                                          colormap='gnuplot',\n",
    "                                                          ax=ax)\n",
    "\n",
    "    # overlay partial dependence, annotate plot\n",
    "    par_dep_frame.plot(title='Partial Dependence and ICE for ' + str(xs),\n",
    "                       x=xs, \n",
    "                       y='partial_dependence',\n",
    "                       style='r-', \n",
    "                       linewidth=3, \n",
    "                       ax=ax)\n",
    "\n",
    "    # add legend\n",
    "    plt.legend(bbox_to_anchor=(1.05, 0),\n",
    "                   loc=3, \n",
    "                   borderaxespad=0.)"
   ]
  },
  {
   "cell_type": "markdown",
   "metadata": {},
   "source": [
    "# Partial Dependence DataFrame"
   ]
  },
  {
   "cell_type": "code",
   "execution_count": 19,
   "metadata": {},
   "outputs": [
    {
     "data": {
      "text/html": [
       "<div>\n",
       "<style scoped>\n",
       "    .dataframe tbody tr th:only-of-type {\n",
       "        vertical-align: middle;\n",
       "    }\n",
       "\n",
       "    .dataframe tbody tr th {\n",
       "        vertical-align: top;\n",
       "    }\n",
       "\n",
       "    .dataframe thead th {\n",
       "        text-align: right;\n",
       "    }\n",
       "</style>\n",
       "<table border=\"1\" class=\"dataframe\">\n",
       "  <thead>\n",
       "    <tr style=\"text-align: right;\">\n",
       "      <th></th>\n",
       "      <th>LIMIT_BAL</th>\n",
       "      <th>partial_dependence</th>\n",
       "      <th>Percentile_0</th>\n",
       "      <th>Percentile_20</th>\n",
       "      <th>Percentile_50</th>\n",
       "      <th>Percentile_80</th>\n",
       "      <th>Percentile_99</th>\n",
       "    </tr>\n",
       "  </thead>\n",
       "  <tbody>\n",
       "    <tr>\n",
       "      <th>0</th>\n",
       "      <td>10000.0</td>\n",
       "      <td>0.309844</td>\n",
       "      <td>0.022981</td>\n",
       "      <td>0.176948</td>\n",
       "      <td>0.169246</td>\n",
       "      <td>0.341147</td>\n",
       "      <td>0.938920</td>\n",
       "    </tr>\n",
       "    <tr>\n",
       "      <th>1</th>\n",
       "      <td>47000.0</td>\n",
       "      <td>0.771697</td>\n",
       "      <td>0.125133</td>\n",
       "      <td>0.578339</td>\n",
       "      <td>0.887811</td>\n",
       "      <td>0.905207</td>\n",
       "      <td>0.973790</td>\n",
       "    </tr>\n",
       "    <tr>\n",
       "      <th>2</th>\n",
       "      <td>84000.0</td>\n",
       "      <td>0.665001</td>\n",
       "      <td>0.049155</td>\n",
       "      <td>0.572953</td>\n",
       "      <td>0.588635</td>\n",
       "      <td>0.735430</td>\n",
       "      <td>0.980285</td>\n",
       "    </tr>\n",
       "    <tr>\n",
       "      <th>3</th>\n",
       "      <td>121000.0</td>\n",
       "      <td>0.580951</td>\n",
       "      <td>0.052626</td>\n",
       "      <td>0.425189</td>\n",
       "      <td>0.570909</td>\n",
       "      <td>0.776837</td>\n",
       "      <td>0.965043</td>\n",
       "    </tr>\n",
       "    <tr>\n",
       "      <th>4</th>\n",
       "      <td>158000.0</td>\n",
       "      <td>0.594041</td>\n",
       "      <td>0.062165</td>\n",
       "      <td>0.592591</td>\n",
       "      <td>0.481941</td>\n",
       "      <td>0.689958</td>\n",
       "      <td>0.977914</td>\n",
       "    </tr>\n",
       "    <tr>\n",
       "      <th>5</th>\n",
       "      <td>195000.0</td>\n",
       "      <td>0.630910</td>\n",
       "      <td>0.109096</td>\n",
       "      <td>0.556079</td>\n",
       "      <td>0.585491</td>\n",
       "      <td>0.744576</td>\n",
       "      <td>0.971208</td>\n",
       "    </tr>\n",
       "    <tr>\n",
       "      <th>6</th>\n",
       "      <td>232000.0</td>\n",
       "      <td>0.491638</td>\n",
       "      <td>0.051087</td>\n",
       "      <td>0.369678</td>\n",
       "      <td>0.217856</td>\n",
       "      <td>0.543010</td>\n",
       "      <td>0.970881</td>\n",
       "    </tr>\n",
       "    <tr>\n",
       "      <th>7</th>\n",
       "      <td>269000.0</td>\n",
       "      <td>0.403836</td>\n",
       "      <td>0.032068</td>\n",
       "      <td>0.259392</td>\n",
       "      <td>0.140601</td>\n",
       "      <td>0.426633</td>\n",
       "      <td>0.954295</td>\n",
       "    </tr>\n",
       "    <tr>\n",
       "      <th>8</th>\n",
       "      <td>306000.0</td>\n",
       "      <td>0.358413</td>\n",
       "      <td>0.028289</td>\n",
       "      <td>0.274267</td>\n",
       "      <td>0.106544</td>\n",
       "      <td>0.368241</td>\n",
       "      <td>0.935047</td>\n",
       "    </tr>\n",
       "    <tr>\n",
       "      <th>9</th>\n",
       "      <td>343000.0</td>\n",
       "      <td>0.375623</td>\n",
       "      <td>0.027437</td>\n",
       "      <td>0.304054</td>\n",
       "      <td>0.119404</td>\n",
       "      <td>0.400910</td>\n",
       "      <td>0.933110</td>\n",
       "    </tr>\n",
       "    <tr>\n",
       "      <th>10</th>\n",
       "      <td>380000.0</td>\n",
       "      <td>0.283856</td>\n",
       "      <td>0.017651</td>\n",
       "      <td>0.249647</td>\n",
       "      <td>0.079281</td>\n",
       "      <td>0.292007</td>\n",
       "      <td>0.901603</td>\n",
       "    </tr>\n",
       "    <tr>\n",
       "      <th>11</th>\n",
       "      <td>417000.0</td>\n",
       "      <td>0.285999</td>\n",
       "      <td>0.017651</td>\n",
       "      <td>0.268778</td>\n",
       "      <td>0.079281</td>\n",
       "      <td>0.292007</td>\n",
       "      <td>0.901603</td>\n",
       "    </tr>\n",
       "    <tr>\n",
       "      <th>12</th>\n",
       "      <td>454000.0</td>\n",
       "      <td>0.284210</td>\n",
       "      <td>0.016709</td>\n",
       "      <td>0.268778</td>\n",
       "      <td>0.079281</td>\n",
       "      <td>0.292007</td>\n",
       "      <td>0.890268</td>\n",
       "    </tr>\n",
       "    <tr>\n",
       "      <th>13</th>\n",
       "      <td>491000.0</td>\n",
       "      <td>0.345402</td>\n",
       "      <td>0.018374</td>\n",
       "      <td>0.389535</td>\n",
       "      <td>0.085290</td>\n",
       "      <td>0.323557</td>\n",
       "      <td>0.938691</td>\n",
       "    </tr>\n",
       "    <tr>\n",
       "      <th>14</th>\n",
       "      <td>528000.0</td>\n",
       "      <td>0.244497</td>\n",
       "      <td>0.014344</td>\n",
       "      <td>0.282273</td>\n",
       "      <td>0.052679</td>\n",
       "      <td>0.207965</td>\n",
       "      <td>0.827265</td>\n",
       "    </tr>\n",
       "    <tr>\n",
       "      <th>15</th>\n",
       "      <td>565000.0</td>\n",
       "      <td>0.244497</td>\n",
       "      <td>0.014344</td>\n",
       "      <td>0.282273</td>\n",
       "      <td>0.052679</td>\n",
       "      <td>0.207965</td>\n",
       "      <td>0.827265</td>\n",
       "    </tr>\n",
       "    <tr>\n",
       "      <th>16</th>\n",
       "      <td>602000.0</td>\n",
       "      <td>0.244497</td>\n",
       "      <td>0.014344</td>\n",
       "      <td>0.282273</td>\n",
       "      <td>0.052679</td>\n",
       "      <td>0.207965</td>\n",
       "      <td>0.827265</td>\n",
       "    </tr>\n",
       "    <tr>\n",
       "      <th>17</th>\n",
       "      <td>639000.0</td>\n",
       "      <td>0.244497</td>\n",
       "      <td>0.014344</td>\n",
       "      <td>0.282273</td>\n",
       "      <td>0.052679</td>\n",
       "      <td>0.207965</td>\n",
       "      <td>0.827265</td>\n",
       "    </tr>\n",
       "    <tr>\n",
       "      <th>18</th>\n",
       "      <td>676000.0</td>\n",
       "      <td>0.244497</td>\n",
       "      <td>0.014344</td>\n",
       "      <td>0.282273</td>\n",
       "      <td>0.052679</td>\n",
       "      <td>0.207965</td>\n",
       "      <td>0.827265</td>\n",
       "    </tr>\n",
       "    <tr>\n",
       "      <th>19</th>\n",
       "      <td>713000.0</td>\n",
       "      <td>0.244497</td>\n",
       "      <td>0.014344</td>\n",
       "      <td>0.282273</td>\n",
       "      <td>0.052679</td>\n",
       "      <td>0.207965</td>\n",
       "      <td>0.827265</td>\n",
       "    </tr>\n",
       "  </tbody>\n",
       "</table>\n",
       "</div>"
      ],
      "text/plain": [
       "    LIMIT_BAL  partial_dependence  Percentile_0  Percentile_20  Percentile_50  \\\n",
       "0     10000.0            0.309844      0.022981       0.176948       0.169246   \n",
       "1     47000.0            0.771697      0.125133       0.578339       0.887811   \n",
       "2     84000.0            0.665001      0.049155       0.572953       0.588635   \n",
       "3    121000.0            0.580951      0.052626       0.425189       0.570909   \n",
       "4    158000.0            0.594041      0.062165       0.592591       0.481941   \n",
       "5    195000.0            0.630910      0.109096       0.556079       0.585491   \n",
       "6    232000.0            0.491638      0.051087       0.369678       0.217856   \n",
       "7    269000.0            0.403836      0.032068       0.259392       0.140601   \n",
       "8    306000.0            0.358413      0.028289       0.274267       0.106544   \n",
       "9    343000.0            0.375623      0.027437       0.304054       0.119404   \n",
       "10   380000.0            0.283856      0.017651       0.249647       0.079281   \n",
       "11   417000.0            0.285999      0.017651       0.268778       0.079281   \n",
       "12   454000.0            0.284210      0.016709       0.268778       0.079281   \n",
       "13   491000.0            0.345402      0.018374       0.389535       0.085290   \n",
       "14   528000.0            0.244497      0.014344       0.282273       0.052679   \n",
       "15   565000.0            0.244497      0.014344       0.282273       0.052679   \n",
       "16   602000.0            0.244497      0.014344       0.282273       0.052679   \n",
       "17   639000.0            0.244497      0.014344       0.282273       0.052679   \n",
       "18   676000.0            0.244497      0.014344       0.282273       0.052679   \n",
       "19   713000.0            0.244497      0.014344       0.282273       0.052679   \n",
       "\n",
       "    Percentile_80  Percentile_99  \n",
       "0        0.341147       0.938920  \n",
       "1        0.905207       0.973790  \n",
       "2        0.735430       0.980285  \n",
       "3        0.776837       0.965043  \n",
       "4        0.689958       0.977914  \n",
       "5        0.744576       0.971208  \n",
       "6        0.543010       0.970881  \n",
       "7        0.426633       0.954295  \n",
       "8        0.368241       0.935047  \n",
       "9        0.400910       0.933110  \n",
       "10       0.292007       0.901603  \n",
       "11       0.292007       0.901603  \n",
       "12       0.292007       0.890268  \n",
       "13       0.323557       0.938691  \n",
       "14       0.207965       0.827265  \n",
       "15       0.207965       0.827265  \n",
       "16       0.207965       0.827265  \n",
       "17       0.207965       0.827265  \n",
       "18       0.207965       0.827265  \n",
       "19       0.207965       0.827265  "
      ]
     },
     "execution_count": 19,
     "metadata": {},
     "output_type": "execute_result"
    }
   ],
   "source": [
    "xs='LIMIT_BAL'\n",
    "par_dep_LIMIT_BAL = par_dep(xs, X_test, clf)\n",
    "par_dep_LIMIT_BAL = par_dep_expand(xs,par_dep_LIMIT_BAL)\n",
    "par_dep_LIMIT_BAL"
   ]
  },
  {
   "cell_type": "markdown",
   "metadata": {},
   "source": [
    "# ICE Plot"
   ]
  },
  {
   "cell_type": "code",
   "execution_count": 20,
   "metadata": {},
   "outputs": [
    {
     "data": {
      "image/png": "[encoded data removed]",
      "text/plain": [
       "<Figure size 432x288 with 1 Axes>"
      ]
     },
     "metadata": {
      "needs_background": "light"
     },
     "output_type": "display_data"
    }
   ],
   "source": [
    "xs='LIMIT_BAL'\n",
    "plot_par_dep_ICE('LIMIT_BAL', par_dep_LIMIT_BAL) # plot partial dependence and ICE for LIMIT_BAL"
   ]
  },
  {
   "cell_type": "code",
   "execution_count": 21,
   "metadata": {
    "scrolled": true
   },
   "outputs": [
    {
     "data": {
      "image/png": "[encoded data removed]",
      "text/plain": [
       "<Figure size 432x288 with 1 Axes>"
      ]
     },
     "metadata": {
      "needs_background": "light"
     },
     "output_type": "display_data"
    }
   ],
   "source": [
    "_ = X_test['LIMIT_BAL'].plot(kind='hist', bins=20, title='Histogram: LIMIT_BAL')"
   ]
  },
  {
   "cell_type": "markdown",
   "metadata": {},
   "source": [
    "# PD and ICE"
   ]
  },
  {
   "cell_type": "code",
   "execution_count": 22,
   "metadata": {
    "scrolled": true
   },
   "outputs": [
    {
     "data": {
      "text/plain": [
       "array(['LIMIT_BAL', 'BILL_AMT1', 'BILL_AMT2', 'BILL_AMT3', 'BILL_AMT4',\n",
       "       'BILL_AMT5', 'BILL_AMT6', 'PAY_AMT1', 'PAY_AMT2', 'PAY_AMT3',\n",
       "       'PAY_AMT4', 'PAY_AMT5', 'PAY_AMT6', 'Total_Bill_Amount',\n",
       "       'Total_payment_Amount', 'SEX_1', 'SEX_2', 'EDUCATION_0',\n",
       "       'EDUCATION_1', 'EDUCATION_2', 'EDUCATION_3', 'EDUCATION_4',\n",
       "       'MARRIAGE_0', 'MARRIAGE_1', 'MARRIAGE_2', 'MARRIAGE_3', 'PAY_0_-2',\n",
       "       'PAY_0_-1', 'PAY_0_0', 'PAY_0_1', 'PAY_0_2', 'PAY_0_3', 'PAY_0_4',\n",
       "       'PAY_0_5', 'PAY_0_6', 'PAY_0_7', 'PAY_0_8', 'PAY_2_-2', 'PAY_2_-1',\n",
       "       'PAY_2_0', 'PAY_2_1', 'PAY_2_2', 'PAY_2_3', 'PAY_2_4', 'PAY_2_5',\n",
       "       'PAY_2_6', 'PAY_2_7', 'PAY_2_8', 'PAY_3_-2', 'PAY_3_-1', 'PAY_3_0',\n",
       "       'PAY_3_1', 'PAY_3_2', 'PAY_3_3', 'PAY_3_4', 'PAY_3_5', 'PAY_3_6',\n",
       "       'PAY_3_7', 'PAY_3_8', 'PAY_4_-2', 'PAY_4_-1', 'PAY_4_0', 'PAY_4_1',\n",
       "       'PAY_4_2', 'PAY_4_3', 'PAY_4_4', 'PAY_4_5', 'PAY_4_6', 'PAY_4_7',\n",
       "       'PAY_4_8', 'PAY_5_-2', 'PAY_5_-1', 'PAY_5_0', 'PAY_5_2', 'PAY_5_3',\n",
       "       'PAY_5_4', 'PAY_5_5', 'PAY_5_6', 'PAY_5_7', 'PAY_5_8', 'PAY_6_-2',\n",
       "       'PAY_6_-1', 'PAY_6_0', 'PAY_6_2', 'PAY_6_3', 'PAY_6_4', 'PAY_6_5',\n",
       "       'PAY_6_6', 'PAY_6_7', 'PAY_6_8', 'Sex_Marriage_10',\n",
       "       'Sex_Marriage_11', 'Sex_Marriage_12', 'Sex_Marriage_13',\n",
       "       'Sex_Marriage_20', 'Sex_Marriage_21', 'Sex_Marriage_22',\n",
       "       'Sex_Marriage_23', 'Sex_Education_10', 'Sex_Education_11',\n",
       "       'Sex_Education_12', 'Sex_Education_13', 'Sex_Education_14',\n",
       "       'Sex_Education_20', 'Sex_Education_21', 'Sex_Education_22',\n",
       "       'Sex_Education_23', 'Sex_Education_24',\n",
       "       'Sex_Education_Marriage_101', 'Sex_Education_Marriage_102',\n",
       "       'Sex_Education_Marriage_110', 'Sex_Education_Marriage_111',\n",
       "       'Sex_Education_Marriage_112', 'Sex_Education_Marriage_113',\n",
       "       'Sex_Education_Marriage_120', 'Sex_Education_Marriage_121',\n",
       "       'Sex_Education_Marriage_122', 'Sex_Education_Marriage_123',\n",
       "       'Sex_Education_Marriage_130', 'Sex_Education_Marriage_131',\n",
       "       'Sex_Education_Marriage_132', 'Sex_Education_Marriage_133',\n",
       "       'Sex_Education_Marriage_141', 'Sex_Education_Marriage_142',\n",
       "       'Sex_Education_Marriage_143', 'Sex_Education_Marriage_201',\n",
       "       'Sex_Education_Marriage_202', 'Sex_Education_Marriage_210',\n",
       "       'Sex_Education_Marriage_211', 'Sex_Education_Marriage_212',\n",
       "       'Sex_Education_Marriage_213', 'Sex_Education_Marriage_220',\n",
       "       'Sex_Education_Marriage_221', 'Sex_Education_Marriage_222',\n",
       "       'Sex_Education_Marriage_223', 'Sex_Education_Marriage_230',\n",
       "       'Sex_Education_Marriage_231', 'Sex_Education_Marriage_232',\n",
       "       'Sex_Education_Marriage_233', 'Sex_Education_Marriage_241',\n",
       "       'Sex_Education_Marriage_242', 'Sex_Education_Marriage_243',\n",
       "       'Age_category_29 - 34', 'Age_category_35 - 41',\n",
       "       'Age_category_<=28', 'Age_category_>41'], dtype=object)"
      ]
     },
     "execution_count": 22,
     "metadata": {},
     "output_type": "execute_result"
    }
   ],
   "source": [
    "features"
   ]
  },
  {
   "cell_type": "code",
   "execution_count": 23,
   "metadata": {},
   "outputs": [],
   "source": [
    "xs='Total_payment_Amount'"
   ]
  },
  {
   "cell_type": "code",
   "execution_count": 24,
   "metadata": {},
   "outputs": [
    {
     "data": {
      "text/html": [
       "<div>\n",
       "<style scoped>\n",
       "    .dataframe tbody tr th:only-of-type {\n",
       "        vertical-align: middle;\n",
       "    }\n",
       "\n",
       "    .dataframe tbody tr th {\n",
       "        vertical-align: top;\n",
       "    }\n",
       "\n",
       "    .dataframe thead th {\n",
       "        text-align: right;\n",
       "    }\n",
       "</style>\n",
       "<table border=\"1\" class=\"dataframe\">\n",
       "  <thead>\n",
       "    <tr style=\"text-align: right;\">\n",
       "      <th></th>\n",
       "      <th>Total_payment_Amount</th>\n",
       "      <th>partial_dependence</th>\n",
       "      <th>Percentile_0</th>\n",
       "      <th>Percentile_20</th>\n",
       "      <th>Percentile_50</th>\n",
       "      <th>Percentile_80</th>\n",
       "      <th>Percentile_99</th>\n",
       "    </tr>\n",
       "  </thead>\n",
       "  <tbody>\n",
       "    <tr>\n",
       "      <th>0</th>\n",
       "      <td>0.00</td>\n",
       "      <td>0.339321</td>\n",
       "      <td>0.016006</td>\n",
       "      <td>0.190118</td>\n",
       "      <td>0.236323</td>\n",
       "      <td>0.545141</td>\n",
       "      <td>0.940147</td>\n",
       "    </tr>\n",
       "    <tr>\n",
       "      <th>1</th>\n",
       "      <td>46366.25</td>\n",
       "      <td>0.290566</td>\n",
       "      <td>0.016399</td>\n",
       "      <td>0.139067</td>\n",
       "      <td>0.263372</td>\n",
       "      <td>0.465525</td>\n",
       "      <td>0.938920</td>\n",
       "    </tr>\n",
       "    <tr>\n",
       "      <th>2</th>\n",
       "      <td>92732.50</td>\n",
       "      <td>0.274606</td>\n",
       "      <td>0.014980</td>\n",
       "      <td>0.140680</td>\n",
       "      <td>0.220260</td>\n",
       "      <td>0.418189</td>\n",
       "      <td>0.934678</td>\n",
       "    </tr>\n",
       "    <tr>\n",
       "      <th>3</th>\n",
       "      <td>139098.75</td>\n",
       "      <td>0.274021</td>\n",
       "      <td>0.014597</td>\n",
       "      <td>0.140680</td>\n",
       "      <td>0.220260</td>\n",
       "      <td>0.418189</td>\n",
       "      <td>0.933056</td>\n",
       "    </tr>\n",
       "    <tr>\n",
       "      <th>4</th>\n",
       "      <td>185465.00</td>\n",
       "      <td>0.274839</td>\n",
       "      <td>0.014597</td>\n",
       "      <td>0.140680</td>\n",
       "      <td>0.220260</td>\n",
       "      <td>0.418189</td>\n",
       "      <td>0.933056</td>\n",
       "    </tr>\n",
       "  </tbody>\n",
       "</table>\n",
       "</div>"
      ],
      "text/plain": [
       "   Total_payment_Amount  partial_dependence  Percentile_0  Percentile_20  \\\n",
       "0                  0.00            0.339321      0.016006       0.190118   \n",
       "1              46366.25            0.290566      0.016399       0.139067   \n",
       "2              92732.50            0.274606      0.014980       0.140680   \n",
       "3             139098.75            0.274021      0.014597       0.140680   \n",
       "4             185465.00            0.274839      0.014597       0.140680   \n",
       "\n",
       "   Percentile_50  Percentile_80  Percentile_99  \n",
       "0       0.236323       0.545141       0.940147  \n",
       "1       0.263372       0.465525       0.938920  \n",
       "2       0.220260       0.418189       0.934678  \n",
       "3       0.220260       0.418189       0.933056  \n",
       "4       0.220260       0.418189       0.933056  "
      ]
     },
     "execution_count": 24,
     "metadata": {},
     "output_type": "execute_result"
    }
   ],
   "source": [
    "par_dep_frame = par_dep(xs, X_test, clf)\n",
    "par_dep_frame = par_dep_expand(xs,par_dep_frame)\n",
    "par_dep_frame.head(5)"
   ]
  },
  {
   "cell_type": "code",
   "execution_count": 25,
   "metadata": {
    "scrolled": true
   },
   "outputs": [
    {
     "data": {
      "image/png": "[encoded data removed]",
      "text/plain": [
       "<Figure size 432x288 with 1 Axes>"
      ]
     },
     "metadata": {
      "needs_background": "light"
     },
     "output_type": "display_data"
    }
   ],
   "source": [
    "plot_par_dep_ICE(xs, par_dep_frame)"
   ]
  },
  {
   "cell_type": "code",
   "execution_count": 26,
   "metadata": {
    "scrolled": true
   },
   "outputs": [
    {
     "data": {
      "image/png": "[encoded data removed]",
      "text/plain": [
       "<Figure size 432x288 with 1 Axes>"
      ]
     },
     "metadata": {
      "needs_background": "light"
     },
     "output_type": "display_data"
    }
   ],
   "source": [
    "X_test[xs].plot(kind='hist', bins=20, title='Histogram: '+xs)\n",
    "plt.show()"
   ]
  },
  {
   "cell_type": "code",
   "execution_count": 27,
   "metadata": {},
   "outputs": [
    {
     "data": {
      "image/png": "[encoded data removed]",
      "text/plain": [
       "<Figure size 432x288 with 1 Axes>"
      ]
     },
     "metadata": {
      "needs_background": "light"
     },
     "output_type": "display_data"
    }
   ],
   "source": [
    "xs='Total_Bill_Amount'\n",
    "par_dep_frame = par_dep(xs, X_test, clf)\n",
    "par_dep_frame = par_dep_expand(xs,par_dep_frame)\n",
    "plot_par_dep_ICE(xs, par_dep_frame)"
   ]
  },
  {
   "cell_type": "code",
   "execution_count": 28,
   "metadata": {
    "scrolled": true
   },
   "outputs": [
    {
     "data": {
      "image/png": "[encoded data removed]",
      "text/plain": [
       "<Figure size 432x288 with 1 Axes>"
      ]
     },
     "metadata": {
      "needs_background": "light"
     },
     "output_type": "display_data"
    }
   ],
   "source": [
    "xs='Total_payment_Amount'\n",
    "par_dep_frame = par_dep(xs, X_test, clf)\n",
    "par_dep_frame = par_dep_expand(xs,par_dep_frame)\n",
    "plot_par_dep_ICE(xs, par_dep_frame)"
   ]
  },
  {
   "cell_type": "code",
   "execution_count": 29,
   "metadata": {
    "scrolled": true
   },
   "outputs": [
    {
     "data": {
      "image/png": "[encoded data removed]",
      "text/plain": [
       "<Figure size 432x288 with 1 Axes>"
      ]
     },
     "metadata": {
      "needs_background": "light"
     },
     "output_type": "display_data"
    }
   ],
   "source": [
    "xs='LIMIT_BAL'\n",
    "par_dep_frame = par_dep(xs, X_test, clf)\n",
    "par_dep_frame = par_dep_expand(xs,par_dep_frame)\n",
    "plot_par_dep_ICE(xs, par_dep_frame)"
   ]
  },
  {
   "cell_type": "code",
   "execution_count": 30,
   "metadata": {},
   "outputs": [
    {
     "data": {
      "image/png": "[encoded data removed]",
      "text/plain": [
       "<Figure size 432x288 with 1 Axes>"
      ]
     },
     "metadata": {
      "needs_background": "light"
     },
     "output_type": "display_data"
    }
   ],
   "source": [
    "xs='PAY_AMT6'\n",
    "par_dep_frame = par_dep(xs, X_test, clf)\n",
    "par_dep_frame = par_dep_expand(xs,par_dep_frame)\n",
    "plot_par_dep_ICE(xs, par_dep_frame)"
   ]
  },
  {
   "cell_type": "markdown",
   "metadata": {},
   "source": [
    "# Reason Code"
   ]
  },
  {
   "cell_type": "code",
   "execution_count": 31,
   "metadata": {},
   "outputs": [
    {
     "name": "stderr",
     "output_type": "stream",
     "text": [
      " 95%|=================== | 5722/6000 [00:21<00:01]       "
     ]
    }
   ],
   "source": [
    "import shap  \n",
    "\n",
    "explainer = shap.TreeExplainer(clf,X_train, feature_perturbation=\"interventional\")\n",
    "\n",
    "shap_values = explainer.shap_values(X_test)"
   ]
  },
  {
   "cell_type": "code",
   "execution_count": 32,
   "metadata": {},
   "outputs": [
    {
     "data": {
      "text/plain": [
       "(6000, 146)"
      ]
     },
     "execution_count": 32,
     "metadata": {},
     "output_type": "execute_result"
    }
   ],
   "source": [
    "shap_values.shape"
   ]
  },
  {
   "cell_type": "code",
   "execution_count": 33,
   "metadata": {},
   "outputs": [],
   "source": [
    "def reason_codes(decile):\n",
    "    '''\n",
    "    decile = 0,10,20 ,30,40,50,60,70,80,90,99\n",
    "    '''\n",
    "    row = X[X['ID'] == percentile_dict[decile]]\n",
    "    # reset test data index to find riskiest customer in shap_values \n",
    "    # sort to find largest positive contributions\n",
    "    s_df = pd.DataFrame(shap_values[row.index[0], :].reshape(146, 1), columns=['Reason Codes'], index=features)\n",
    "    s_df.sort_values(by='Reason Codes', inplace=True, ascending=False)\n",
    "\n",
    "    return s_df"
   ]
  },
  {
   "cell_type": "code",
   "execution_count": 34,
   "metadata": {},
   "outputs": [
    {
     "data": {
      "text/html": [
       "<div>\n",
       "<style scoped>\n",
       "    .dataframe tbody tr th:only-of-type {\n",
       "        vertical-align: middle;\n",
       "    }\n",
       "\n",
       "    .dataframe tbody tr th {\n",
       "        vertical-align: top;\n",
       "    }\n",
       "\n",
       "    .dataframe thead th {\n",
       "        text-align: right;\n",
       "    }\n",
       "</style>\n",
       "<table border=\"1\" class=\"dataframe\">\n",
       "  <thead>\n",
       "    <tr style=\"text-align: right;\">\n",
       "      <th></th>\n",
       "      <th>Reason Codes</th>\n",
       "    </tr>\n",
       "  </thead>\n",
       "  <tbody>\n",
       "    <tr>\n",
       "      <th>PAY_4_2</th>\n",
       "      <td>0.277327</td>\n",
       "    </tr>\n",
       "    <tr>\n",
       "      <th>PAY_5_2</th>\n",
       "      <td>0.246421</td>\n",
       "    </tr>\n",
       "    <tr>\n",
       "      <th>PAY_AMT2</th>\n",
       "      <td>0.229569</td>\n",
       "    </tr>\n",
       "    <tr>\n",
       "      <th>Age_category_&gt;41</th>\n",
       "      <td>0.153820</td>\n",
       "    </tr>\n",
       "    <tr>\n",
       "      <th>Age_category_35 - 41</th>\n",
       "      <td>0.152190</td>\n",
       "    </tr>\n",
       "    <tr>\n",
       "      <th>...</th>\n",
       "      <td>...</td>\n",
       "    </tr>\n",
       "    <tr>\n",
       "      <th>PAY_0_2</th>\n",
       "      <td>-0.140585</td>\n",
       "    </tr>\n",
       "    <tr>\n",
       "      <th>PAY_3_0</th>\n",
       "      <td>-0.176568</td>\n",
       "    </tr>\n",
       "    <tr>\n",
       "      <th>PAY_AMT6</th>\n",
       "      <td>-0.256573</td>\n",
       "    </tr>\n",
       "    <tr>\n",
       "      <th>Age_category_&lt;=28</th>\n",
       "      <td>-0.441510</td>\n",
       "    </tr>\n",
       "    <tr>\n",
       "      <th>PAY_0_0</th>\n",
       "      <td>-0.486908</td>\n",
       "    </tr>\n",
       "  </tbody>\n",
       "</table>\n",
       "<p>146 rows × 1 columns</p>\n",
       "</div>"
      ],
      "text/plain": [
       "                      Reason Codes\n",
       "PAY_4_2                   0.277327\n",
       "PAY_5_2                   0.246421\n",
       "PAY_AMT2                  0.229569\n",
       "Age_category_>41          0.153820\n",
       "Age_category_35 - 41      0.152190\n",
       "...                            ...\n",
       "PAY_0_2                  -0.140585\n",
       "PAY_3_0                  -0.176568\n",
       "PAY_AMT6                 -0.256573\n",
       "Age_category_<=28        -0.441510\n",
       "PAY_0_0                  -0.486908\n",
       "\n",
       "[146 rows x 1 columns]"
      ]
     },
     "execution_count": 34,
     "metadata": {},
     "output_type": "execute_result"
    }
   ],
   "source": [
    "reason_codes(80)"
   ]
  },
  {
   "cell_type": "code",
   "execution_count": 35,
   "metadata": {
    "scrolled": true
   },
   "outputs": [
    {
     "data": {
      "text/html": [
       "<div>\n",
       "<style scoped>\n",
       "    .dataframe tbody tr th:only-of-type {\n",
       "        vertical-align: middle;\n",
       "    }\n",
       "\n",
       "    .dataframe tbody tr th {\n",
       "        vertical-align: top;\n",
       "    }\n",
       "\n",
       "    .dataframe thead th {\n",
       "        text-align: right;\n",
       "    }\n",
       "</style>\n",
       "<table border=\"1\" class=\"dataframe\">\n",
       "  <thead>\n",
       "    <tr style=\"text-align: right;\">\n",
       "      <th></th>\n",
       "      <th>Reason Codes</th>\n",
       "    </tr>\n",
       "  </thead>\n",
       "  <tbody>\n",
       "    <tr>\n",
       "      <th>Age_category_35 - 41</th>\n",
       "      <td>0.251071</td>\n",
       "    </tr>\n",
       "    <tr>\n",
       "      <th>PAY_0_0</th>\n",
       "      <td>0.234655</td>\n",
       "    </tr>\n",
       "    <tr>\n",
       "      <th>Age_category_&gt;41</th>\n",
       "      <td>0.227208</td>\n",
       "    </tr>\n",
       "    <tr>\n",
       "      <th>Age_category_29 - 34</th>\n",
       "      <td>0.169653</td>\n",
       "    </tr>\n",
       "    <tr>\n",
       "      <th>BILL_AMT1</th>\n",
       "      <td>0.074948</td>\n",
       "    </tr>\n",
       "    <tr>\n",
       "      <th>...</th>\n",
       "      <td>...</td>\n",
       "    </tr>\n",
       "    <tr>\n",
       "      <th>PAY_0_2</th>\n",
       "      <td>-0.153133</td>\n",
       "    </tr>\n",
       "    <tr>\n",
       "      <th>Total_payment_Amount</th>\n",
       "      <td>-0.192942</td>\n",
       "    </tr>\n",
       "    <tr>\n",
       "      <th>LIMIT_BAL</th>\n",
       "      <td>-0.626232</td>\n",
       "    </tr>\n",
       "    <tr>\n",
       "      <th>PAY_0_-2</th>\n",
       "      <td>-0.655241</td>\n",
       "    </tr>\n",
       "    <tr>\n",
       "      <th>Age_category_&lt;=28</th>\n",
       "      <td>-0.868285</td>\n",
       "    </tr>\n",
       "  </tbody>\n",
       "</table>\n",
       "<p>146 rows × 1 columns</p>\n",
       "</div>"
      ],
      "text/plain": [
       "                      Reason Codes\n",
       "Age_category_35 - 41      0.251071\n",
       "PAY_0_0                   0.234655\n",
       "Age_category_>41          0.227208\n",
       "Age_category_29 - 34      0.169653\n",
       "BILL_AMT1                 0.074948\n",
       "...                            ...\n",
       "PAY_0_2                  -0.153133\n",
       "Total_payment_Amount     -0.192942\n",
       "LIMIT_BAL                -0.626232\n",
       "PAY_0_-2                 -0.655241\n",
       "Age_category_<=28        -0.868285\n",
       "\n",
       "[146 rows x 1 columns]"
      ]
     },
     "execution_count": 35,
     "metadata": {},
     "output_type": "execute_result"
    }
   ],
   "source": [
    "reason_codes(20)"
   ]
  },
  {
   "cell_type": "code",
   "execution_count": null,
   "metadata": {},
   "outputs": [],
   "source": []
  },
  {
   "cell_type": "markdown",
   "metadata": {},
   "source": [
    "# 1D-PDP plot"
   ]
  },
  {
   "cell_type": "code",
   "execution_count": 36,
   "metadata": {},
   "outputs": [],
   "source": [
    "from matplotlib import pyplot as plt\n",
    "from pdpbox import pdp, get_dataset, info_plots"
   ]
  },
  {
   "cell_type": "code",
   "execution_count": 37,
   "metadata": {},
   "outputs": [],
   "source": [
    "def PDP_plot_1D(feature_to_plot):\n",
    "    pdp_dist = pdp.pdp_isolate(model=clf, dataset=X_test, model_features=features, feature=feature_to_plot)\n",
    "    pdp.pdp_plot(pdp_dist, feature_to_plot)\n",
    "    plt.show() "
   ]
  },
  {
   "cell_type": "code",
   "execution_count": 38,
   "metadata": {},
   "outputs": [
    {
     "data": {
      "image/png": "[encoded data removed]",
      "text/plain": [
       "<Figure size 1080x684 with 2 Axes>"
      ]
     },
     "metadata": {
      "needs_background": "light"
     },
     "output_type": "display_data"
    }
   ],
   "source": [
    "xs='PAY_0_2'\n",
    "PDP_plot_1D(xs)"
   ]
  },
  {
   "cell_type": "markdown",
   "metadata": {},
   "source": [
    "# 2D-PDP plot"
   ]
  },
  {
   "cell_type": "code",
   "execution_count": 39,
   "metadata": {},
   "outputs": [],
   "source": [
    "def PDP_plot_2D(features_to_plot):\n",
    "    inter = pdp.pdp_interact(model=clf, dataset=X_test,model_features=features,features=features_to_plot)\n",
    "    pdp.pdp_interact_plot(pdp_interact_out=inter, feature_names=features_to_plot, plot_type='contour')\n",
    "    plt.show()"
   ]
  },
  {
   "cell_type": "code",
   "execution_count": 40,
   "metadata": {
    "scrolled": false
   },
   "outputs": [
    {
     "data": {
      "image/png": "[encoded data removed]",
      "text/plain": [
       "<Figure size 540x684 with 3 Axes>"
      ]
     },
     "metadata": {
      "needs_background": "light"
     },
     "output_type": "display_data"
    }
   ],
   "source": [
    "features_to_plot=['Total_payment_Amount', 'Total_Bill_Amount']\n",
    "PDP_plot_2D(features_to_plot)"
   ]
  },
  {
   "cell_type": "code",
   "execution_count": 41,
   "metadata": {},
   "outputs": [
    {
     "data": {
      "image/png": "[encoded data removed]",
      "text/plain": [
       "<Figure size 432x288 with 1 Axes>"
      ]
     },
     "metadata": {
      "needs_background": "light"
     },
     "output_type": "display_data"
    }
   ],
   "source": [
    "xs='Total_payment_Amount'\n",
    "X_test[xs].plot(kind='hist', bins=20, title='Histogram: '+xs)\n",
    "plt.show()"
   ]
  },
  {
   "cell_type": "code",
   "execution_count": 42,
   "metadata": {},
   "outputs": [
    {
     "data": {
      "image/png": "[encoded data removed]",
      "text/plain": [
       "<Figure size 432x288 with 1 Axes>"
      ]
     },
     "metadata": {
      "needs_background": "light"
     },
     "output_type": "display_data"
    }
   ],
   "source": [
    "xs='Total_Bill_Amount'\n",
    "X_test[xs].plot(kind='hist', bins=20, title='Histogram: '+xs)\n",
    "plt.show()"
   ]
  },
  {
   "cell_type": "markdown",
   "metadata": {},
   "source": [
    "PAY_0_2\n",
    "Total_payment_Amount\n",
    "PAY_AMT6"
   ]
  },
  {
   "cell_type": "code",
   "execution_count": null,
   "metadata": {},
   "outputs": [],
   "source": []
  }
 ],
 "metadata": {
  "kernelspec": {
   "display_name": "Python 3",
   "language": "python",
   "name": "python3"
  },
  "language_info": {
   "codemirror_mode": {
    "name": "ipython",
    "version": 3
   },
   "file_extension": ".py",
   "mimetype": "text/x-python",
   "name": "python",
   "nbconvert_exporter": "python",
   "pygments_lexer": "ipython3",
   "version": "3.8.5"
  }
 },
 "nbformat": 4,
 "nbformat_minor": 4
}
